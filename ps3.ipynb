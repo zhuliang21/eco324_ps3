{
 "cells": [
  {
   "cell_type": "code",
   "execution_count": 58,
   "metadata": {},
   "outputs": [],
   "source": [
    "import pandas as pd\n",
    "import numpy as np\n"
   ]
  },
  {
   "cell_type": "code",
   "execution_count": 59,
   "metadata": {},
   "outputs": [
    {
     "name": "stdout",
     "output_type": "stream",
     "text": [
      "/Users/zhuliang/Projects/eco324_ps3\n",
      "      id    year       sales  labor    capital\n",
      "0  886.0  1982.0   97.439133  1.771  35.782864\n",
      "1  886.0  1983.0   87.548149  1.898  36.997932\n",
      "2  886.0  1984.0   96.258301  1.554  40.235428\n",
      "3  886.0  1985.0  132.291260  1.729  44.547943\n",
      "4  886.0  1986.0  148.273392  1.729  53.325729\n"
     ]
    }
   ],
   "source": [
    "import os\n",
    "\n",
    "current_directory = os.getcwd()\n",
    "print(current_directory)\n",
    "\n",
    "file_path = os.path.join(current_directory, 'blundell_bond_2000_production_function.dta')\n",
    "df = pd.read_stata(file_path)\n",
    "print(df.head())"
   ]
  },
  {
   "cell_type": "code",
   "execution_count": 60,
   "metadata": {
    "vscode": {
     "languageId": "javascript"
    }
   },
   "outputs": [
    {
     "name": "stdout",
     "output_type": "stream",
     "text": [
      "   log_sales  log_labor  log_capital\n",
      "0   4.579228   0.571544     3.577469\n",
      "1   4.472189   0.640801     3.610862\n",
      "2   4.567035   0.440832     3.694748\n",
      "3   4.885006   0.547543     3.796566\n",
      "4   4.999058   0.547543     3.976419\n"
     ]
    }
   ],
   "source": [
    "df['log_sales'] = np.log(df['sales'])\n",
    "df['log_labor'] = np.log(df['labor'])\n",
    "df['log_capital'] = np.log(df['capital'])\n",
    "\n",
    "print(df[['log_sales', 'log_labor', 'log_capital']].head())"
   ]
  },
  {
   "cell_type": "code",
   "execution_count": 61,
   "metadata": {},
   "outputs": [],
   "source": [
    "# set index by id and year\n",
    "df.set_index(['id', 'year'], inplace=True)"
   ]
  },
  {
   "cell_type": "code",
   "execution_count": 62,
   "metadata": {},
   "outputs": [
    {
     "name": "stdout",
     "output_type": "stream",
     "text": [
      "                            OLS Regression Results                            \n",
      "==============================================================================\n",
      "Dep. Variable:              log_sales   R-squared:                       0.969\n",
      "Model:                            OLS   Adj. R-squared:                  0.969\n",
      "Method:                 Least Squares   F-statistic:                 6.380e+04\n",
      "Date:                Wed, 27 Nov 2024   Prob (F-statistic):               0.00\n",
      "Time:                        14:11:13   Log-Likelihood:                -1541.6\n",
      "No. Observations:                4072   AIC:                             3089.\n",
      "Df Residuals:                    4069   BIC:                             3108.\n",
      "Df Model:                           2                                         \n",
      "Covariance Type:            nonrobust                                         \n",
      "===============================================================================\n",
      "                  coef    std err          t      P>|t|      [0.025      0.975]\n",
      "-------------------------------------------------------------------------------\n",
      "Intercept       3.0051      0.029    102.527      0.000       2.948       3.063\n",
      "log_labor       0.5606      0.010     58.145      0.000       0.542       0.579\n",
      "log_capital     0.4299      0.008     54.054      0.000       0.414       0.445\n",
      "==============================================================================\n",
      "Omnibus:                      298.984   Durbin-Watson:                   0.429\n",
      "Prob(Omnibus):                  0.000   Jarque-Bera (JB):              511.882\n",
      "Skew:                           0.548   Prob(JB):                    7.02e-112\n",
      "Kurtosis:                       4.348   Cond. No.                         33.5\n",
      "==============================================================================\n",
      "\n",
      "Notes:\n",
      "[1] Standard Errors assume that the covariance matrix of the errors is correctly specified.\n"
     ]
    }
   ],
   "source": [
    "import statsmodels.api as sm\n",
    "import statsmodels.formula.api as smf\n",
    "\n",
    "# Add a constant term for the intercept\n",
    "df['const'] = 1\n",
    "\n",
    "# Fit the regression model\n",
    "model = smf.ols(formula='log_sales ~ log_labor + log_capital', data=df).fit()\n",
    "\n",
    "# Print the summary of the regression\n",
    "print(model.summary())"
   ]
  },
  {
   "cell_type": "code",
   "execution_count": 63,
   "metadata": {},
   "outputs": [
    {
     "name": "stdout",
     "output_type": "stream",
     "text": [
      "                            OLS Regression Results                            \n",
      "==============================================================================\n",
      "Dep. Variable:              log_sales   R-squared:                       0.969\n",
      "Model:                            OLS   Adj. R-squared:                  0.969\n",
      "Method:                 Least Squares   F-statistic:                 1.425e+04\n",
      "Date:                Wed, 27 Nov 2024   Prob (F-statistic):               0.00\n",
      "Time:                        14:11:13   Log-Likelihood:                -1527.7\n",
      "No. Observations:                4072   AIC:                             3075.\n",
      "Df Residuals:                    4062   BIC:                             3139.\n",
      "Df Model:                           9                                         \n",
      "Covariance Type:            nonrobust                                         \n",
      "=====================================================================================\n",
      "                        coef    std err          t      P>|t|      [0.025      0.975]\n",
      "-------------------------------------------------------------------------------------\n",
      "Intercept             3.0468      0.032     96.644      0.000       2.985       3.109\n",
      "C(year)[T.1983.0]    -0.0569      0.022     -2.572      0.010      -0.100      -0.014\n",
      "C(year)[T.1984.0]    -0.0500      0.022     -2.261      0.024      -0.093      -0.007\n",
      "C(year)[T.1985.0]    -0.0876      0.022     -3.945      0.000      -0.131      -0.044\n",
      "C(year)[T.1986.0]    -0.0929      0.022     -4.170      0.000      -0.137      -0.049\n",
      "C(year)[T.1987.0]    -0.0581      0.022     -2.605      0.009      -0.102      -0.014\n",
      "C(year)[T.1988.0]    -0.0212      0.022     -0.948      0.343      -0.065       0.023\n",
      "C(year)[T.1989.0]    -0.0383      0.022     -1.707      0.088      -0.082       0.006\n",
      "log_labor             0.5579      0.010     56.761      0.000       0.539       0.577\n",
      "log_capital           0.4323      0.008     53.108      0.000       0.416       0.448\n",
      "==============================================================================\n",
      "Omnibus:                      302.557   Durbin-Watson:                   0.422\n",
      "Prob(Omnibus):                  0.000   Jarque-Bera (JB):              523.230\n",
      "Skew:                           0.549   Prob(JB):                    2.41e-114\n",
      "Kurtosis:                       4.370   Cond. No.                         49.8\n",
      "==============================================================================\n",
      "\n",
      "Notes:\n",
      "[1] Standard Errors assume that the covariance matrix of the errors is correctly specified.\n"
     ]
    }
   ],
   "source": [
    "# Fit the regression model with year as a factor\n",
    "model_with_year = smf.ols(formula='log_sales ~ log_labor + log_capital + C(year)', data=df.reset_index()).fit()\n",
    "\n",
    "# Print the summary of the regression\n",
    "print(model_with_year.summary())\n"
   ]
  },
  {
   "cell_type": "code",
   "execution_count": null,
   "metadata": {},
   "outputs": [],
   "source": []
  },
  {
   "cell_type": "code",
   "execution_count": null,
   "metadata": {},
   "outputs": [],
   "source": []
  }
 ],
 "metadata": {
  "kernelspec": {
   "display_name": "base",
   "language": "python",
   "name": "python3"
  },
  "language_info": {
   "codemirror_mode": {
    "name": "ipython",
    "version": 3
   },
   "file_extension": ".py",
   "mimetype": "text/x-python",
   "name": "python",
   "nbconvert_exporter": "python",
   "pygments_lexer": "ipython3",
   "version": "3.11.7"
  }
 },
 "nbformat": 4,
 "nbformat_minor": 2
}
